{
 "cells": [
  {
   "cell_type": "code",
   "execution_count": 1,
   "metadata": {
    "collapsed": false
   },
   "outputs": [],
   "source": [
    "import numpy as np\n",
    "import warnings\n",
    "warnings.filterwarnings('ignore')\n",
    "\n",
    "from sklearn.base import BaseEstimator,TransformerMixin, ClassifierMixin\n",
    "from sklearn.preprocessing import LabelEncoder\n",
    "import xgboost as xgb\n",
    "import pandas as pd # data processing, CSV file I/O (e.g. pd.read_csv)\n",
    "from sklearn.linear_model import ElasticNetCV, LassoLarsCV\n",
    "from sklearn.ensemble import GradientBoostingRegressor\n",
    "from sklearn.pipeline import make_pipeline, make_union\n",
    "from sklearn.utils import check_array\n",
    "from sklearn.preprocessing import StandardScaler\n",
    "from sklearn.tree import DecisionTreeRegressor\n",
    "from sklearn.random_projection import GaussianRandomProjection\n",
    "from sklearn.random_projection import SparseRandomProjection\n",
    "from sklearn.decomposition import PCA, FastICA\n",
    "from sklearn.decomposition import TruncatedSVD\n",
    "from sklearn.metrics import r2_score"
   ]
  },
  {
   "cell_type": "markdown",
   "metadata": {},
   "source": [
    "## Define a stacking estimator class ##"
   ]
  },
  {
   "cell_type": "code",
   "execution_count": 2,
   "metadata": {
    "collapsed": true
   },
   "outputs": [],
   "source": [
    "class StackingEstimator(BaseEstimator, TransformerMixin):\n",
    "    \n",
    "    def __init__(self, estimator):\n",
    "        self.estimator = estimator\n",
    "    \n",
    "    def fit(self, X, y=None, **fit_params):\n",
    "        self.estimator.fit(X, y, **fit_params)\n",
    "        return self\n",
    "        \n",
    "    def transform(self, X):    \n",
    "        X = check_array(X)\n",
    "        X_transformed = np.copy(X)\n",
    "        if issubclass(self.estimator.__class__, ClassifierMixin) and hasattr(self.estimator, 'predict_proba'):\n",
    "            X_transformed = np.hstack((self.estimator.predict_proba(X), X))\n",
    "            \n",
    "        X_transformed = np.hstack((np.reshape(self.estimator.predict(X), (-1, 1)), X_transformed))\n",
    "        \n",
    "        return X_transformed\n",
    "    \n"
   ]
  },
  {
   "cell_type": "markdown",
   "metadata": {},
   "source": [
    "## Read train and test dataset ##"
   ]
  },
  {
   "cell_type": "code",
   "execution_count": 3,
   "metadata": {
    "collapsed": true
   },
   "outputs": [],
   "source": [
    "train_org = pd.read_csv('../input/train.csv')\n",
    "test_org = pd.read_csv('../input/test.csv')"
   ]
  },
  {
   "cell_type": "code",
   "execution_count": 4,
   "metadata": {
    "collapsed": false
   },
   "outputs": [
    {
     "data": {
      "text/html": [
       "<div>\n",
       "<table border=\"1\" class=\"dataframe\">\n",
       "  <thead>\n",
       "    <tr style=\"text-align: right;\">\n",
       "      <th></th>\n",
       "      <th>ID</th>\n",
       "      <th>y</th>\n",
       "      <th>X0</th>\n",
       "      <th>X1</th>\n",
       "      <th>X2</th>\n",
       "      <th>X3</th>\n",
       "      <th>X4</th>\n",
       "      <th>X5</th>\n",
       "      <th>X6</th>\n",
       "      <th>X8</th>\n",
       "      <th>...</th>\n",
       "      <th>X375</th>\n",
       "      <th>X376</th>\n",
       "      <th>X377</th>\n",
       "      <th>X378</th>\n",
       "      <th>X379</th>\n",
       "      <th>X380</th>\n",
       "      <th>X382</th>\n",
       "      <th>X383</th>\n",
       "      <th>X384</th>\n",
       "      <th>X385</th>\n",
       "    </tr>\n",
       "  </thead>\n",
       "  <tbody>\n",
       "    <tr>\n",
       "      <th>0</th>\n",
       "      <td>0</td>\n",
       "      <td>130.81</td>\n",
       "      <td>k</td>\n",
       "      <td>v</td>\n",
       "      <td>at</td>\n",
       "      <td>a</td>\n",
       "      <td>d</td>\n",
       "      <td>u</td>\n",
       "      <td>j</td>\n",
       "      <td>o</td>\n",
       "      <td>...</td>\n",
       "      <td>0</td>\n",
       "      <td>0</td>\n",
       "      <td>1</td>\n",
       "      <td>0</td>\n",
       "      <td>0</td>\n",
       "      <td>0</td>\n",
       "      <td>0</td>\n",
       "      <td>0</td>\n",
       "      <td>0</td>\n",
       "      <td>0</td>\n",
       "    </tr>\n",
       "    <tr>\n",
       "      <th>1</th>\n",
       "      <td>6</td>\n",
       "      <td>88.53</td>\n",
       "      <td>k</td>\n",
       "      <td>t</td>\n",
       "      <td>av</td>\n",
       "      <td>e</td>\n",
       "      <td>d</td>\n",
       "      <td>y</td>\n",
       "      <td>l</td>\n",
       "      <td>o</td>\n",
       "      <td>...</td>\n",
       "      <td>1</td>\n",
       "      <td>0</td>\n",
       "      <td>0</td>\n",
       "      <td>0</td>\n",
       "      <td>0</td>\n",
       "      <td>0</td>\n",
       "      <td>0</td>\n",
       "      <td>0</td>\n",
       "      <td>0</td>\n",
       "      <td>0</td>\n",
       "    </tr>\n",
       "    <tr>\n",
       "      <th>2</th>\n",
       "      <td>7</td>\n",
       "      <td>76.26</td>\n",
       "      <td>az</td>\n",
       "      <td>w</td>\n",
       "      <td>n</td>\n",
       "      <td>c</td>\n",
       "      <td>d</td>\n",
       "      <td>x</td>\n",
       "      <td>j</td>\n",
       "      <td>x</td>\n",
       "      <td>...</td>\n",
       "      <td>0</td>\n",
       "      <td>0</td>\n",
       "      <td>0</td>\n",
       "      <td>0</td>\n",
       "      <td>0</td>\n",
       "      <td>0</td>\n",
       "      <td>1</td>\n",
       "      <td>0</td>\n",
       "      <td>0</td>\n",
       "      <td>0</td>\n",
       "    </tr>\n",
       "    <tr>\n",
       "      <th>3</th>\n",
       "      <td>9</td>\n",
       "      <td>80.62</td>\n",
       "      <td>az</td>\n",
       "      <td>t</td>\n",
       "      <td>n</td>\n",
       "      <td>f</td>\n",
       "      <td>d</td>\n",
       "      <td>x</td>\n",
       "      <td>l</td>\n",
       "      <td>e</td>\n",
       "      <td>...</td>\n",
       "      <td>0</td>\n",
       "      <td>0</td>\n",
       "      <td>0</td>\n",
       "      <td>0</td>\n",
       "      <td>0</td>\n",
       "      <td>0</td>\n",
       "      <td>0</td>\n",
       "      <td>0</td>\n",
       "      <td>0</td>\n",
       "      <td>0</td>\n",
       "    </tr>\n",
       "    <tr>\n",
       "      <th>4</th>\n",
       "      <td>13</td>\n",
       "      <td>78.02</td>\n",
       "      <td>az</td>\n",
       "      <td>v</td>\n",
       "      <td>n</td>\n",
       "      <td>f</td>\n",
       "      <td>d</td>\n",
       "      <td>h</td>\n",
       "      <td>d</td>\n",
       "      <td>n</td>\n",
       "      <td>...</td>\n",
       "      <td>0</td>\n",
       "      <td>0</td>\n",
       "      <td>0</td>\n",
       "      <td>0</td>\n",
       "      <td>0</td>\n",
       "      <td>0</td>\n",
       "      <td>0</td>\n",
       "      <td>0</td>\n",
       "      <td>0</td>\n",
       "      <td>0</td>\n",
       "    </tr>\n",
       "  </tbody>\n",
       "</table>\n",
       "<p>5 rows × 378 columns</p>\n",
       "</div>"
      ],
      "text/plain": [
       "   ID       y  X0 X1  X2 X3 X4 X5 X6 X8  ...   X375  X376  X377  X378  X379  \\\n",
       "0   0  130.81   k  v  at  a  d  u  j  o  ...      0     0     1     0     0   \n",
       "1   6   88.53   k  t  av  e  d  y  l  o  ...      1     0     0     0     0   \n",
       "2   7   76.26  az  w   n  c  d  x  j  x  ...      0     0     0     0     0   \n",
       "3   9   80.62  az  t   n  f  d  x  l  e  ...      0     0     0     0     0   \n",
       "4  13   78.02  az  v   n  f  d  h  d  n  ...      0     0     0     0     0   \n",
       "\n",
       "   X380  X382  X383  X384  X385  \n",
       "0     0     0     0     0     0  \n",
       "1     0     0     0     0     0  \n",
       "2     0     1     0     0     0  \n",
       "3     0     0     0     0     0  \n",
       "4     0     0     0     0     0  \n",
       "\n",
       "[5 rows x 378 columns]"
      ]
     },
     "execution_count": 4,
     "metadata": {},
     "output_type": "execute_result"
    }
   ],
   "source": [
    "train_org.head()"
   ]
  },
  {
   "cell_type": "markdown",
   "metadata": {},
   "source": [
    "## Data preprocessing 1 ##"
   ]
  },
  {
   "cell_type": "code",
   "execution_count": 5,
   "metadata": {
    "collapsed": false
   },
   "outputs": [
    {
     "data": {
      "text/html": [
       "<div>\n",
       "<table border=\"1\" class=\"dataframe\">\n",
       "  <thead>\n",
       "    <tr style=\"text-align: right;\">\n",
       "      <th></th>\n",
       "      <th>ID</th>\n",
       "      <th>y</th>\n",
       "      <th>X0</th>\n",
       "      <th>X1</th>\n",
       "      <th>X2</th>\n",
       "      <th>X3</th>\n",
       "      <th>X4</th>\n",
       "      <th>X5</th>\n",
       "      <th>X6</th>\n",
       "      <th>X8</th>\n",
       "      <th>...</th>\n",
       "      <th>X375</th>\n",
       "      <th>X376</th>\n",
       "      <th>X377</th>\n",
       "      <th>X378</th>\n",
       "      <th>X379</th>\n",
       "      <th>X380</th>\n",
       "      <th>X382</th>\n",
       "      <th>X383</th>\n",
       "      <th>X384</th>\n",
       "      <th>X385</th>\n",
       "    </tr>\n",
       "  </thead>\n",
       "  <tbody>\n",
       "    <tr>\n",
       "      <th>0</th>\n",
       "      <td>0</td>\n",
       "      <td>130.81</td>\n",
       "      <td>37</td>\n",
       "      <td>23</td>\n",
       "      <td>20</td>\n",
       "      <td>0</td>\n",
       "      <td>3</td>\n",
       "      <td>27</td>\n",
       "      <td>9</td>\n",
       "      <td>14</td>\n",
       "      <td>...</td>\n",
       "      <td>0</td>\n",
       "      <td>0</td>\n",
       "      <td>1</td>\n",
       "      <td>0</td>\n",
       "      <td>0</td>\n",
       "      <td>0</td>\n",
       "      <td>0</td>\n",
       "      <td>0</td>\n",
       "      <td>0</td>\n",
       "      <td>0</td>\n",
       "    </tr>\n",
       "    <tr>\n",
       "      <th>1</th>\n",
       "      <td>6</td>\n",
       "      <td>88.53</td>\n",
       "      <td>37</td>\n",
       "      <td>21</td>\n",
       "      <td>22</td>\n",
       "      <td>4</td>\n",
       "      <td>3</td>\n",
       "      <td>31</td>\n",
       "      <td>11</td>\n",
       "      <td>14</td>\n",
       "      <td>...</td>\n",
       "      <td>1</td>\n",
       "      <td>0</td>\n",
       "      <td>0</td>\n",
       "      <td>0</td>\n",
       "      <td>0</td>\n",
       "      <td>0</td>\n",
       "      <td>0</td>\n",
       "      <td>0</td>\n",
       "      <td>0</td>\n",
       "      <td>0</td>\n",
       "    </tr>\n",
       "    <tr>\n",
       "      <th>2</th>\n",
       "      <td>7</td>\n",
       "      <td>76.26</td>\n",
       "      <td>24</td>\n",
       "      <td>24</td>\n",
       "      <td>38</td>\n",
       "      <td>2</td>\n",
       "      <td>3</td>\n",
       "      <td>30</td>\n",
       "      <td>9</td>\n",
       "      <td>23</td>\n",
       "      <td>...</td>\n",
       "      <td>0</td>\n",
       "      <td>0</td>\n",
       "      <td>0</td>\n",
       "      <td>0</td>\n",
       "      <td>0</td>\n",
       "      <td>0</td>\n",
       "      <td>1</td>\n",
       "      <td>0</td>\n",
       "      <td>0</td>\n",
       "      <td>0</td>\n",
       "    </tr>\n",
       "    <tr>\n",
       "      <th>3</th>\n",
       "      <td>9</td>\n",
       "      <td>80.62</td>\n",
       "      <td>24</td>\n",
       "      <td>21</td>\n",
       "      <td>38</td>\n",
       "      <td>5</td>\n",
       "      <td>3</td>\n",
       "      <td>30</td>\n",
       "      <td>11</td>\n",
       "      <td>4</td>\n",
       "      <td>...</td>\n",
       "      <td>0</td>\n",
       "      <td>0</td>\n",
       "      <td>0</td>\n",
       "      <td>0</td>\n",
       "      <td>0</td>\n",
       "      <td>0</td>\n",
       "      <td>0</td>\n",
       "      <td>0</td>\n",
       "      <td>0</td>\n",
       "      <td>0</td>\n",
       "    </tr>\n",
       "    <tr>\n",
       "      <th>4</th>\n",
       "      <td>13</td>\n",
       "      <td>78.02</td>\n",
       "      <td>24</td>\n",
       "      <td>23</td>\n",
       "      <td>38</td>\n",
       "      <td>5</td>\n",
       "      <td>3</td>\n",
       "      <td>14</td>\n",
       "      <td>3</td>\n",
       "      <td>13</td>\n",
       "      <td>...</td>\n",
       "      <td>0</td>\n",
       "      <td>0</td>\n",
       "      <td>0</td>\n",
       "      <td>0</td>\n",
       "      <td>0</td>\n",
       "      <td>0</td>\n",
       "      <td>0</td>\n",
       "      <td>0</td>\n",
       "      <td>0</td>\n",
       "      <td>0</td>\n",
       "    </tr>\n",
       "  </tbody>\n",
       "</table>\n",
       "<p>5 rows × 378 columns</p>\n",
       "</div>"
      ],
      "text/plain": [
       "   ID       y  X0  X1  X2  X3  X4  X5  X6  X8  ...   X375  X376  X377  X378  \\\n",
       "0   0  130.81  37  23  20   0   3  27   9  14  ...      0     0     1     0   \n",
       "1   6   88.53  37  21  22   4   3  31  11  14  ...      1     0     0     0   \n",
       "2   7   76.26  24  24  38   2   3  30   9  23  ...      0     0     0     0   \n",
       "3   9   80.62  24  21  38   5   3  30  11   4  ...      0     0     0     0   \n",
       "4  13   78.02  24  23  38   5   3  14   3  13  ...      0     0     0     0   \n",
       "\n",
       "   X379  X380  X382  X383  X384  X385  \n",
       "0     0     0     0     0     0     0  \n",
       "1     0     0     0     0     0     0  \n",
       "2     0     0     1     0     0     0  \n",
       "3     0     0     0     0     0     0  \n",
       "4     0     0     0     0     0     0  \n",
       "\n",
       "[5 rows x 378 columns]"
      ]
     },
     "execution_count": 5,
     "metadata": {},
     "output_type": "execute_result"
    }
   ],
   "source": [
    "# Convert categorical features (Column X0:X8) to label values using LabelEncoder \n",
    "# Encode labels with values from n to n_classes - 1\n",
    "\n",
    "train_label = train_org.copy()\n",
    "test_label = test_org.copy()\n",
    "for c in train_label.columns:\n",
    "    if train_label[c].dtypes == 'object':\n",
    "        lbe = LabelEncoder()\n",
    "        lbe.fit(list(train_label[c].values) + list(test_label[c].values))\n",
    "        train_label[c] = lbe.transform(list(train_label[c].values))\n",
    "        test_label[c] = lbe.transform(list(test_label[c].values))\n",
    "train_label.head()"
   ]
  },
  {
   "cell_type": "markdown",
   "metadata": {},
   "source": [
    "## Data preprocessing 2 ##"
   ]
  },
  {
   "cell_type": "code",
   "execution_count": 6,
   "metadata": {
    "collapsed": false
   },
   "outputs": [
    {
     "data": {
      "text/plain": [
       "(581, 580)"
      ]
     },
     "execution_count": 6,
     "metadata": {},
     "output_type": "execute_result"
    }
   ],
   "source": [
    "# Convert categorical features (Column X0:X8) to Dummy Variables using One-Hot_Encoding\n",
    "\n",
    "temp = pd.concat([train_org, test_org])\n",
    "temp = pd.get_dummies(temp)\n",
    "train_dummy = temp.iloc[:4209]\n",
    "test_dummy = temp.iloc[4209:]\n",
    "\n",
    "# Since train dataset has 'y' column and test has not, concatenate operation will\n",
    "# create a new column with values for test data are all none\n",
    "# When recreate the test dataset, this dummay column needs to be removed\n",
    "test_dummy.drop('y', axis=1, inplace=True)\n",
    "\n",
    "len(train_dummy.columns), len(test_dummy.columns)"
   ]
  },
  {
   "cell_type": "code",
   "execution_count": 7,
   "metadata": {
    "collapsed": false
   },
   "outputs": [
    {
     "data": {
      "text/html": [
       "<div>\n",
       "<table border=\"1\" class=\"dataframe\">\n",
       "  <thead>\n",
       "    <tr style=\"text-align: right;\">\n",
       "      <th></th>\n",
       "      <th>ID</th>\n",
       "      <th>X10</th>\n",
       "      <th>X100</th>\n",
       "      <th>X101</th>\n",
       "      <th>X102</th>\n",
       "      <th>X103</th>\n",
       "      <th>X104</th>\n",
       "      <th>X105</th>\n",
       "      <th>X106</th>\n",
       "      <th>X107</th>\n",
       "      <th>...</th>\n",
       "      <th>X8_p</th>\n",
       "      <th>X8_q</th>\n",
       "      <th>X8_r</th>\n",
       "      <th>X8_s</th>\n",
       "      <th>X8_t</th>\n",
       "      <th>X8_u</th>\n",
       "      <th>X8_v</th>\n",
       "      <th>X8_w</th>\n",
       "      <th>X8_x</th>\n",
       "      <th>X8_y</th>\n",
       "    </tr>\n",
       "  </thead>\n",
       "  <tbody>\n",
       "    <tr>\n",
       "      <th>0</th>\n",
       "      <td>0</td>\n",
       "      <td>0</td>\n",
       "      <td>0</td>\n",
       "      <td>0</td>\n",
       "      <td>0</td>\n",
       "      <td>0</td>\n",
       "      <td>0</td>\n",
       "      <td>0</td>\n",
       "      <td>0</td>\n",
       "      <td>0</td>\n",
       "      <td>...</td>\n",
       "      <td>0</td>\n",
       "      <td>0</td>\n",
       "      <td>0</td>\n",
       "      <td>0</td>\n",
       "      <td>0</td>\n",
       "      <td>0</td>\n",
       "      <td>0</td>\n",
       "      <td>0</td>\n",
       "      <td>0</td>\n",
       "      <td>0</td>\n",
       "    </tr>\n",
       "    <tr>\n",
       "      <th>1</th>\n",
       "      <td>6</td>\n",
       "      <td>0</td>\n",
       "      <td>1</td>\n",
       "      <td>1</td>\n",
       "      <td>0</td>\n",
       "      <td>0</td>\n",
       "      <td>0</td>\n",
       "      <td>0</td>\n",
       "      <td>0</td>\n",
       "      <td>0</td>\n",
       "      <td>...</td>\n",
       "      <td>0</td>\n",
       "      <td>0</td>\n",
       "      <td>0</td>\n",
       "      <td>0</td>\n",
       "      <td>0</td>\n",
       "      <td>0</td>\n",
       "      <td>0</td>\n",
       "      <td>0</td>\n",
       "      <td>0</td>\n",
       "      <td>0</td>\n",
       "    </tr>\n",
       "    <tr>\n",
       "      <th>2</th>\n",
       "      <td>7</td>\n",
       "      <td>0</td>\n",
       "      <td>0</td>\n",
       "      <td>1</td>\n",
       "      <td>0</td>\n",
       "      <td>0</td>\n",
       "      <td>0</td>\n",
       "      <td>0</td>\n",
       "      <td>0</td>\n",
       "      <td>0</td>\n",
       "      <td>...</td>\n",
       "      <td>0</td>\n",
       "      <td>0</td>\n",
       "      <td>0</td>\n",
       "      <td>0</td>\n",
       "      <td>0</td>\n",
       "      <td>0</td>\n",
       "      <td>0</td>\n",
       "      <td>0</td>\n",
       "      <td>1</td>\n",
       "      <td>0</td>\n",
       "    </tr>\n",
       "    <tr>\n",
       "      <th>3</th>\n",
       "      <td>9</td>\n",
       "      <td>0</td>\n",
       "      <td>0</td>\n",
       "      <td>1</td>\n",
       "      <td>0</td>\n",
       "      <td>0</td>\n",
       "      <td>0</td>\n",
       "      <td>0</td>\n",
       "      <td>0</td>\n",
       "      <td>0</td>\n",
       "      <td>...</td>\n",
       "      <td>0</td>\n",
       "      <td>0</td>\n",
       "      <td>0</td>\n",
       "      <td>0</td>\n",
       "      <td>0</td>\n",
       "      <td>0</td>\n",
       "      <td>0</td>\n",
       "      <td>0</td>\n",
       "      <td>0</td>\n",
       "      <td>0</td>\n",
       "    </tr>\n",
       "    <tr>\n",
       "      <th>4</th>\n",
       "      <td>13</td>\n",
       "      <td>0</td>\n",
       "      <td>0</td>\n",
       "      <td>1</td>\n",
       "      <td>0</td>\n",
       "      <td>0</td>\n",
       "      <td>0</td>\n",
       "      <td>0</td>\n",
       "      <td>0</td>\n",
       "      <td>0</td>\n",
       "      <td>...</td>\n",
       "      <td>0</td>\n",
       "      <td>0</td>\n",
       "      <td>0</td>\n",
       "      <td>0</td>\n",
       "      <td>0</td>\n",
       "      <td>0</td>\n",
       "      <td>0</td>\n",
       "      <td>0</td>\n",
       "      <td>0</td>\n",
       "      <td>0</td>\n",
       "    </tr>\n",
       "  </tbody>\n",
       "</table>\n",
       "<p>5 rows × 581 columns</p>\n",
       "</div>"
      ],
      "text/plain": [
       "   ID  X10  X100  X101  X102  X103  X104  X105  X106  X107  ...   X8_p  X8_q  \\\n",
       "0   0    0     0     0     0     0     0     0     0     0  ...      0     0   \n",
       "1   6    0     1     1     0     0     0     0     0     0  ...      0     0   \n",
       "2   7    0     0     1     0     0     0     0     0     0  ...      0     0   \n",
       "3   9    0     0     1     0     0     0     0     0     0  ...      0     0   \n",
       "4  13    0     0     1     0     0     0     0     0     0  ...      0     0   \n",
       "\n",
       "   X8_r  X8_s  X8_t  X8_u  X8_v  X8_w  X8_x  X8_y  \n",
       "0     0     0     0     0     0     0     0     0  \n",
       "1     0     0     0     0     0     0     0     0  \n",
       "2     0     0     0     0     0     0     1     0  \n",
       "3     0     0     0     0     0     0     0     0  \n",
       "4     0     0     0     0     0     0     0     0  \n",
       "\n",
       "[5 rows x 581 columns]"
      ]
     },
     "execution_count": 7,
     "metadata": {},
     "output_type": "execute_result"
    }
   ],
   "source": [
    "train_dummy.head()"
   ]
  },
  {
   "cell_type": "markdown",
   "metadata": {},
   "source": [
    "## Assessing feature importance with random forests ##"
   ]
  },
  {
   "cell_type": "code",
   "execution_count": 8,
   "metadata": {
    "collapsed": true
   },
   "outputs": [],
   "source": [
    "from sklearn.ensemble import RandomForestRegressor, RandomForestClassifier"
   ]
  },
  {
   "cell_type": "code",
   "execution_count": 9,
   "metadata": {
    "collapsed": false
   },
   "outputs": [
    {
     "name": "stdout",
     "output_type": "stream",
     "text": [
      "[(0.1455, 'X127'), (0.0846, 'X261'), (0.0592, 'X314'), (0.0342, 'X263'), (0.0288, 'X118'), (0.0271, 'X232'), (0.0234, 'X315'), (0.0229, 'X0_az'), (0.0221, 'X316'), (0.0138, 'X162'), (0.0127, 'X311'), (0.0126, 'X272'), (0.0124, 'X166'), (0.0086, 'X54'), (0.0082, 'X324'), (0.0081, 'X6_g'), (0.008, 'X2_ai'), (0.0077, 'X5_ag'), (0.0073, 'X178'), (0.0071, 'X119'), (0.0068, 'X3_c'), (0.0067, 'X273'), (0.0065, 'X250'), (0.0065, 'X115'), (0.006, 'X6_j'), (0.0056, 'X234'), (0.0055, 'X275'), (0.0054, 'X8_g'), (0.0052, 'X6_i'), (0.0051, 'X5_m'), (0.0051, 'X313'), (0.005, 'X158'), (0.0049, 'X348'), (0.0047, 'X5_ab'), (0.0046, 'X5_p'), (0.0046, 'X5_n'), (0.0045, 'X27'), (0.0044, 'X136'), (0.0042, 'X5_q'), (0.0041, 'X355'), (0.0041, 'X0_y'), (0.004, 'X8_t'), (0.0035, 'X5_r'), (0.0034, 'X6_h'), (0.0032, 'X5_v'), (0.0032, 'X5_af'), (0.0032, 'X1_r'), (0.0031, 'X6_a'), (0.0031, 'X354'), (0.003, 'X5_k'), (0.003, 'X374'), (0.0029, 'X6_d'), (0.0029, 'X5_ae'), (0.0029, 'X58'), (0.0029, 'X267'), (0.0028, 'X5_i'), (0.0028, 'X116'), (0.0027, 'X5_s'), (0.0027, 'X5_ad'), (0.0027, 'X47'), (0.0027, 'X163'), (0.0026, 'X6_k'), (0.0026, 'X64'), (0.0026, 'X5_w'), (0.0026, 'X5_d'), (0.0026, 'X5_c'), (0.0026, 'X50'), (0.0026, 'X3_a'), (0.0025, 'X52'), (0.0025, 'X31'), (0.0025, 'X111'), (0.0024, 'X8_n'), (0.0024, 'X8_f'), (0.0024, 'X6_l'), (0.0023, 'X8_v'), (0.0023, 'X8_a'), (0.0023, 'X81'), (0.0023, 'X3_g'), (0.0023, 'X350'), (0.0023, 'X19'), (0.0022, 'X8_w'), (0.0022, 'X8_j'), (0.0021, 'X220'), (0.0021, 'X218'), (0.0021, 'X157'), (0.0021, 'X142'), (0.002, 'X8_b'), (0.002, 'X70'), (0.002, 'X321'), (0.002, 'X117'), (0.002, 'X104'), (0.0019, 'X8_p'), (0.0019, 'X8_i'), (0.0019, 'X68'), (0.0019, 'X5_ac'), (0.0019, 'X51'), (0.0019, 'X189'), (0.0019, 'X133'), (0.0018, 'X46'), (0.0018, 'X375'), (0.0018, 'X37'), (0.0018, 'X169'), (0.0018, 'X137'), (0.0018, 'X12'), (0.0018, 'X0_at'), (0.0017, 'X8_r'), (0.0017, 'X76'), (0.0017, 'X5_l'), (0.0017, 'X5_ah'), (0.0017, 'X0_x'), (0.0016, 'X342'), (0.0016, 'X226'), (0.0016, 'X171'), (0.0016, 'X154'), (0.0016, 'X151'), (0.0016, 'X14'), (0.0016, 'X100'), (0.0015, 'X8_x'), (0.0015, 'X8_s'), (0.0015, 'X334'), (0.0015, 'X244'), (0.0015, 'X231'), (0.0015, 'X1_v'), (0.0015, 'X1_o'), (0.0015, 'X1_f'), (0.0015, 'X168'), (0.0015, 'X144'), (0.0015, 'X109'), (0.0014, 'X8_m'), (0.0014, 'X73'), (0.0014, 'X5_aa'), (0.0014, 'X208'), (0.0014, 'X186'), (0.0014, 'X0_ak'), (0.0013, 'X8_h'), (0.0013, 'X6_e'), (0.0013, 'X5_f'), (0.0013, 'X35'), (0.0013, 'X327'), (0.0013, 'X294'), (0.0013, 'X22'), (0.0013, 'X1_h'), (0.0013, 'X181'), (0.0013, 'X139'), (0.0012, 'X96'), (0.0012, 'X8_e'), (0.0012, 'X8_c'), (0.0012, 'X367'), (0.0012, 'X351'), (0.0012, 'X341'), (0.0012, 'X301'), (0.0012, 'X300'), (0.0012, 'X2_ak'), (0.0012, 'X246'), (0.0012, 'X225'), (0.0012, 'X156'), (0.0011, 'X8_q'), (0.0011, 'X84'), (0.0011, 'X71'), (0.0011, 'X5_j'), (0.0011, 'X383'), (0.0011, 'X363'), (0.0011, 'X358'), (0.0011, 'X285'), (0.0011, 'X224'), (0.0011, 'X201'), (0.0011, 'X1_l'), (0.0011, 'X1_aa'), (0.0011, 'X150'), (0.0011, 'X146'), (0.0011, 'X0_aa'), (0.001, 'X8_o'), (0.001, 'X8_k'), (0.001, 'X3_e'), (0.001, 'X377'), (0.001, 'X356'), (0.001, 'X329'), (0.001, 'X326'), (0.001, 'X2_ae'), (0.001, 'X238'), (0.001, 'X223'), (0.001, 'X219'), (0.001, 'X177'), (0.001, 'X148'), (0.001, 'X132'), (0.001, 'X103'), (0.001, 'X0_z'), (0.001, 'X0_af'), (0.0009, 'X8_y'), (0.0009, 'X8_l'), (0.0009, 'X6_c'), (0.0009, 'X49'), (0.0009, 'X345'), (0.0009, 'X337'), (0.0009, 'X2_m'), (0.0009, 'X251'), (0.0009, 'X182'), (0.0009, 'X180'), (0.0009, 'X164'), (0.0009, 'X161'), (0.0009, 'X114'), (0.0008, 'X3_f'), (0.0008, 'X3_d'), (0.0008, 'X343'), (0.0008, 'X287'), (0.0008, 'X241'), (0.0008, 'X202'), (0.0008, 'X1_b'), (0.0008, 'X194'), (0.0008, 'X152'), (0.0008, 'X0_s'), (0.0007, 'X45'), (0.0007, 'X378'), (0.0007, 'X362'), (0.0007, 'X340'), (0.0007, 'X336'), (0.0007, 'X322'), (0.0007, 'X309'), (0.0007, 'X2_as'), (0.0007, 'X283'), (0.0007, 'X209'), (0.0007, 'X191'), (0.0007, 'X175'), (0.0007, 'X141'), (0.0007, 'X131'), (0.0007, 'X0_t'), (0.0007, 'X0_au'), (0.0006, 'X8_u'), (0.0006, 'X85'), (0.0006, 'X77'), (0.0006, 'X63'), (0.0006, 'X61'), (0.0006, 'X38'), (0.0006, 'X20'), (0.0006, 'X173'), (0.0006, 'X155'), (0.0006, 'X140'), (0.0006, 'X105'), (0.0006, 'X0_w'), (0.0006, 'X0_o'), (0.0006, 'X0_al'), (0.0005, 'X8_d'), (0.0005, 'X5_o'), (0.0005, 'X368'), (0.0005, 'X361'), (0.0005, 'X312'), (0.0005, 'X2_h'), (0.0005, 'X2_f'), (0.0005, 'X291'), (0.0005, 'X1_a'), (0.0005, 'X195'), (0.0005, 'X187'), (0.0005, 'X176'), (0.0005, 'X147'), (0.0004, 'X56'), (0.0004, 'X43'), (0.0004, 'X376'), (0.0004, 'X360'), (0.0004, 'X286'), (0.0004, 'X247'), (0.0004, 'X229'), (0.0004, 'X1_s'), (0.0004, 'X197'), (0.0004, 'X196'), (0.0004, 'X13'), (0.0004, 'X0_f'), (0.0003, 'X95'), (0.0003, 'X86'), (0.0003, 'X82'), (0.0003, 'X4_c'), (0.0003, 'X373'), (0.0003, 'X364'), (0.0003, 'X353'), (0.0003, 'X352'), (0.0003, 'X349'), (0.0003, 'X344'), (0.0003, 'X34'), (0.0003, 'X332'), (0.0003, 'X318'), (0.0003, 'X2_r'), (0.0003, 'X2_e'), (0.0003, 'X284'), (0.0003, 'X26'), (0.0003, 'X256'), (0.0003, 'X240'), (0.0003, 'X23'), (0.0003, 'X228'), (0.0003, 'X1_z'), (0.0003, 'X1_w'), (0.0003, 'X1_u'), (0.0003, 'X1_n'), (0.0003, 'X1_c'), (0.0003, 'X198'), (0.0003, 'X174'), (0.0003, 'X172'), (0.0003, 'X143'), (0.0003, 'X129'), (0.0003, 'X0_v'), (0.0003, 'X0_n'), (0.0003, 'X0_ay'), (0.0003, 'X0_ai'), (0.0002, 'X97'), (0.0002, 'X79'), (0.0002, 'X69'), (0.0002, 'X65'), (0.0002, 'X41'), (0.0002, 'X359'), (0.0002, 'X338'), (0.0002, 'X333'), (0.0002, 'X2_n'), (0.0002, 'X2_d'), (0.0002, 'X2_b'), (0.0002, 'X2_ap'), (0.0002, 'X2_aa'), (0.0002, 'X299'), (0.0002, 'X292'), (0.0002, 'X28'), (0.0002, 'X254'), (0.0002, 'X215'), (0.0002, 'X204'), (0.0002, 'X203'), (0.0002, 'X200'), (0.0002, 'X170'), (0.0002, 'X101'), (0.0002, 'X0_j'), (0.0002, 'X0_aq'), (0.0002, 'X0_ao'), (0.0002, 'X0_aj'), (0.0002, 'X0_ad'), (0.0002, 'X0_ab'), (0.0001, 'X88'), (0.0001, 'X83'), (0.0001, 'X75'), (0.0001, 'X6_f'), (0.0001, 'X6_b'), (0.0001, 'X5_u'), (0.0001, 'X57'), (0.0001, 'X55'), (0.0001, 'X3_b'), (0.0001, 'X380'), (0.0001, 'X379'), (0.0001, 'X370'), (0.0001, 'X365'), (0.0001, 'X346'), (0.0001, 'X331'), (0.0001, 'X325'), (0.0001, 'X323'), (0.0001, 'X32'), (0.0001, 'X306'), (0.0001, 'X304'), (0.0001, 'X2_z'), (0.0001, 'X2_x'), (0.0001, 'X2_l'), (0.0001, 'X2_i'), (0.0001, 'X2_ay'), (0.0001, 'X2_av'), (0.0001, 'X2_an'), (0.0001, 'X298'), (0.0001, 'X266'), (0.0001, 'X265'), (0.0001, 'X242'), (0.0001, 'X230'), (0.0001, 'X227'), (0.0001, 'X222'), (0.0001, 'X221'), (0.0001, 'X217'), (0.0001, 'X211'), (0.0001, 'X206'), (0.0001, 'X1_t'), (0.0001, 'X1_m'), (0.0001, 'X1_i'), (0.0001, 'X1_g'), (0.0001, 'X1_e'), (0.0001, 'X18'), (0.0001, 'X165'), (0.0001, 'X16'), (0.0001, 'X145'), (0.0001, 'X138'), (0.0001, 'X135'), (0.0001, 'X120'), (0.0001, 'X10'), (0.0001, 'X0_r'), (0.0001, 'X0_l'), (0.0001, 'X0_h'), (0.0001, 'X0_e'), (0.0001, 'X0_d'), (0.0001, 'X0_ba'), (0.0001, 'X0_aw'), (0.0001, 'X0_am'), (0.0001, 'X0_ac'), (0.0, 'X99'), (0.0, 'X98'), (0.0, 'X94'), (0.0, 'X93'), (0.0, 'X92'), (0.0, 'X91'), (0.0, 'X90'), (0.0, 'X89'), (0.0, 'X87'), (0.0, 'X80'), (0.0, 'X78'), (0.0, 'X74'), (0.0, 'X67'), (0.0, 'X66'), (0.0, 'X62'), (0.0, 'X60'), (0.0, 'X5_z'), (0.0, 'X5_y'), (0.0, 'X5_x'), (0.0, 'X5_t'), (0.0, 'X5_h'), (0.0, 'X5_g'), (0.0, 'X5_b'), (0.0, 'X5_a'), (0.0, 'X59'), (0.0, 'X53'), (0.0, 'X4_d'), (0.0, 'X4_b'), (0.0, 'X4_a'), (0.0, 'X48'), (0.0, 'X44'), (0.0, 'X42'), (0.0, 'X40'), (0.0, 'X39'), (0.0, 'X385'), (0.0, 'X384'), (0.0, 'X382'), (0.0, 'X372'), (0.0, 'X371'), (0.0, 'X369'), (0.0, 'X366'), (0.0, 'X36'), (0.0, 'X357'), (0.0, 'X347'), (0.0, 'X339'), (0.0, 'X335'), (0.0, 'X330'), (0.0, 'X33'), (0.0, 'X328'), (0.0, 'X320'), (0.0, 'X319'), (0.0, 'X317'), (0.0, 'X310'), (0.0, 'X308'), (0.0, 'X307'), (0.0, 'X305'), (0.0, 'X302'), (0.0, 'X30'), (0.0, 'X2_y'), (0.0, 'X2_w'), (0.0, 'X2_u'), (0.0, 'X2_t'), (0.0, 'X2_s'), (0.0, 'X2_q'), (0.0, 'X2_p'), (0.0, 'X2_o'), (0.0, 'X2_k'), (0.0, 'X2_j'), (0.0, 'X2_g'), (0.0, 'X2_c'), (0.0, 'X2_ax'), (0.0, 'X2_aw'), (0.0, 'X2_au'), (0.0, 'X2_at'), (0.0, 'X2_ar'), (0.0, 'X2_aq'), (0.0, 'X2_ao'), (0.0, 'X2_am'), (0.0, 'X2_al'), (0.0, 'X2_aj'), (0.0, 'X2_ah'), (0.0, 'X2_ag'), (0.0, 'X2_af'), (0.0, 'X2_ad'), (0.0, 'X2_ac'), (0.0, 'X2_ab'), (0.0, 'X2_a'), (0.0, 'X297'), (0.0, 'X296'), (0.0, 'X295'), (0.0, 'X293'), (0.0, 'X290'), (0.0, 'X29'), (0.0, 'X289'), (0.0, 'X288'), (0.0, 'X282'), (0.0, 'X281'), (0.0, 'X280'), (0.0, 'X279'), (0.0, 'X278'), (0.0, 'X277'), (0.0, 'X276'), (0.0, 'X274'), (0.0, 'X271'), (0.0, 'X270'), (0.0, 'X269'), (0.0, 'X268'), (0.0, 'X264'), (0.0, 'X262'), (0.0, 'X260'), (0.0, 'X259'), (0.0, 'X258'), (0.0, 'X257'), (0.0, 'X255'), (0.0, 'X253'), (0.0, 'X252'), (0.0, 'X249'), (0.0, 'X248'), (0.0, 'X245'), (0.0, 'X243'), (0.0, 'X24'), (0.0, 'X239'), (0.0, 'X237'), (0.0, 'X236'), (0.0, 'X235'), (0.0, 'X233'), (0.0, 'X216'), (0.0, 'X214'), (0.0, 'X213'), (0.0, 'X212'), (0.0, 'X210'), (0.0, 'X21'), (0.0, 'X207'), (0.0, 'X205'), (0.0, 'X1_y'), (0.0, 'X1_q'), (0.0, 'X1_p'), (0.0, 'X1_k'), (0.0, 'X1_j'), (0.0, 'X1_d'), (0.0, 'X1_ab'), (0.0, 'X199'), (0.0, 'X192'), (0.0, 'X190'), (0.0, 'X185'), (0.0, 'X184'), (0.0, 'X183'), (0.0, 'X179'), (0.0, 'X17'), (0.0, 'X167'), (0.0, 'X160'), (0.0, 'X159'), (0.0, 'X153'), (0.0, 'X15'), (0.0, 'X134'), (0.0, 'X130'), (0.0, 'X128'), (0.0, 'X126'), (0.0, 'X125'), (0.0, 'X124'), (0.0, 'X123'), (0.0, 'X122'), (0.0, 'X113'), (0.0, 'X112'), (0.0, 'X110'), (0.0, 'X11'), (0.0, 'X108'), (0.0, 'X107'), (0.0, 'X106'), (0.0, 'X102'), (0.0, 'X0_u'), (0.0, 'X0_q'), (0.0, 'X0_p'), (0.0, 'X0_m'), (0.0, 'X0_k'), (0.0, 'X0_i'), (0.0, 'X0_g'), (0.0, 'X0_c'), (0.0, 'X0_bc'), (0.0, 'X0_bb'), (0.0, 'X0_b'), (0.0, 'X0_ax'), (0.0, 'X0_av'), (0.0, 'X0_as'), (0.0, 'X0_ap'), (0.0, 'X0_an'), (0.0, 'X0_ag'), (0.0, 'X0_ae'), (0.0, 'X0_a')]\n"
     ]
    }
   ],
   "source": [
    "rf = RandomForestRegressor(max_features=100, max_depth=1000)\n",
    "#rf = RandomForestClassifier()\n",
    "#rf.fit(train_org.drop(['ID','y'], axis=1), train_org['y'])\n",
    "rf.fit(train_dummy.drop(['ID','y'], axis=1), train_dummy['y'])\n",
    "#print \"Features sorted by their score:\"\n",
    "print sorted(zip(map(lambda x: round(x, 4), rf.feature_importances_), train_dummy.drop(['ID','y'], axis=1).columns), reverse=True)\n",
    "#len(rf.feature_importances_)\n",
    "#importances = rf.feature_importances_\n",
    "#indices = np.argsort(importances)[::-1]"
   ]
  },
  {
   "cell_type": "code",
   "execution_count": null,
   "metadata": {
    "collapsed": false
   },
   "outputs": [],
   "source": []
  },
  {
   "cell_type": "markdown",
   "metadata": {},
   "source": [
    "## Magic features ##"
   ]
  },
  {
   "cell_type": "code",
   "execution_count": 10,
   "metadata": {
    "collapsed": true
   },
   "outputs": [],
   "source": [
    "#"
   ]
  },
  {
   "cell_type": "markdown",
   "metadata": {},
   "source": [
    "## Principle Components Analysis ##"
   ]
  },
  {
   "cell_type": "code",
   "execution_count": 11,
   "metadata": {
    "collapsed": true
   },
   "outputs": [],
   "source": [
    "n_comp = 100\n",
    "cutoff = 0.98\n",
    "pca_label = PCA(n_components=cutoff, random_state=0)\n",
    "pca_label_train = pca_label.fit_transform(train_label.drop([\"ID\", \"y\"], axis=1))\n",
    "pca_label_test = pca_label.transform(test_label.drop([\"ID\"], axis=1))"
   ]
  },
  {
   "cell_type": "code",
   "execution_count": 12,
   "metadata": {
    "collapsed": false
   },
   "outputs": [
    {
     "name": "stdout",
     "output_type": "stream",
     "text": [
      "('Number of components: ', 12)\n",
      "[0.40869, 0.217585, 0.131201, 0.107835, 0.081652, 0.014093, 0.00661, 0.003847, 0.002603, 0.002144, 0.002099, 0.001804]\n"
     ]
    }
   ],
   "source": [
    "print (\"Number of components: \", len(pca_label.explained_variance_ratio_))\n",
    "print ([round(p, 6) for p in pca_label.explained_variance_ratio_])\n",
    "# The first components explains 0.40869 variances? \n",
    "# 12 components explains 98% variance\n",
    "# First components explains 41% variance"
   ]
  },
  {
   "cell_type": "code",
   "execution_count": 13,
   "metadata": {
    "collapsed": false
   },
   "outputs": [],
   "source": [
    "n_comp = 100\n",
    "cutoff = 0.98\n",
    "pca_dummy = PCA(n_components=cutoff, random_state=0)\n",
    "pca_dummy_train = pca_dummy.fit_transform(train_dummy.drop([\"ID\", \"y\"], axis=1))\n",
    "pca_dummy_test = pca_dummy.transform(test_dummy.drop([\"ID\"], axis=1))"
   ]
  },
  {
   "cell_type": "code",
   "execution_count": 14,
   "metadata": {
    "collapsed": false
   },
   "outputs": [
    {
     "name": "stdout",
     "output_type": "stream",
     "text": [
      "('Number of components: ', 185)\n",
      "[0.113279, 0.077991, 0.073582, 0.058481, 0.049431, 0.041919, 0.0331, 0.028273, 0.025155, 0.021535, 0.020776, 0.017251, 0.015053, 0.014352, 0.013852, 0.012968, 0.012055, 0.010929, 0.009842, 0.009132, 0.008834, 0.008438, 0.008232, 0.007727, 0.007434, 0.006974, 0.006934, 0.006573, 0.006387, 0.006296, 0.005764, 0.005546, 0.005207, 0.004815, 0.004741, 0.004424, 0.004369, 0.004199, 0.0041, 0.004042, 0.003789, 0.003777, 0.003719, 0.00351, 0.003471, 0.003346, 0.003219, 0.003134, 0.003015, 0.002917, 0.002754, 0.002718, 0.002675, 0.002582, 0.002525, 0.002443, 0.002408, 0.002387, 0.002289, 0.002254, 0.002219, 0.002174, 0.002135, 0.002088, 0.002054, 0.002043, 0.00202, 0.001986, 0.001969, 0.001959, 0.001945, 0.001926, 0.001897, 0.00188, 0.001851, 0.001823, 0.001812, 0.001773, 0.001764, 0.001755, 0.001737, 0.001718, 0.001712, 0.001692, 0.00168, 0.001653, 0.001637, 0.001623, 0.001615, 0.00159, 0.001579, 0.001574, 0.001539, 0.001525, 0.001514, 0.001512, 0.001486, 0.001476, 0.001431, 0.001426, 0.001414, 0.001401, 0.001378, 0.001358, 0.001353, 0.001314, 0.001299, 0.001294, 0.001272, 0.001251, 0.001224, 0.001206, 0.001197, 0.001195, 0.001159, 0.001147, 0.001134, 0.001126, 0.001098, 0.001081, 0.001068, 0.001062, 0.001031, 0.001022, 0.001011, 0.000998, 0.000987, 0.000981, 0.000967, 0.000955, 0.000946, 0.000928, 0.000913, 0.000901, 0.000893, 0.000878, 0.000858, 0.000857, 0.000842, 0.00083, 0.000824, 0.000806, 0.000793, 0.000787, 0.000774, 0.00077, 0.000766, 0.000744, 0.00073, 0.000721, 0.000706, 0.000697, 0.000697, 0.000682, 0.000672, 0.000665, 0.00065, 0.000634, 0.000625, 0.000617, 0.000607, 0.000599, 0.000593, 0.000585, 0.000572, 0.000561, 0.000546, 0.000535, 0.000528, 0.000524, 0.000514, 0.0005, 0.000492, 0.000479, 0.00046, 0.000455, 0.000449, 0.000443, 0.000436, 0.000427, 0.000423, 0.000414, 0.0004, 0.000394, 0.00038]\n"
     ]
    }
   ],
   "source": [
    "print (\"Number of components: \", len(pca_dummy.explained_variance_ratio_))\n",
    "print ([round(p, 6) for p in pca_dummy.explained_variance_ratio_])\n",
    "#185 components explains 98% variance\n",
    "#The first components explains 11% variances? "
   ]
  },
  {
   "cell_type": "markdown",
   "metadata": {},
   "source": [
    "## Cross Validation and Grid Search ##"
   ]
  },
  {
   "cell_type": "code",
   "execution_count": 15,
   "metadata": {
    "collapsed": false
   },
   "outputs": [
    {
     "name": "stderr",
     "output_type": "stream",
     "text": [
      "C:\\Users\\LiTo\\AppData\\Local\\Continuum\\Anaconda2\\lib\\site-packages\\sklearn\\cross_validation.py:44: DeprecationWarning: This module was deprecated in version 0.18 in favor of the model_selection module into which all the refactored classes and functions are moved. Also note that the interface of the new CV iterators are different from that of this module. This module will be removed in 0.20.\n",
      "  \"This module will be removed in 0.20.\", DeprecationWarning)\n",
      "C:\\Users\\LiTo\\AppData\\Local\\Continuum\\Anaconda2\\lib\\site-packages\\sklearn\\grid_search.py:43: DeprecationWarning: This module was deprecated in version 0.18 in favor of the model_selection module into which all the refactored classes and functions are moved. This module will be removed in 0.20.\n",
      "  DeprecationWarning)\n"
     ]
    }
   ],
   "source": [
    "from sklearn.grid_search import GridSearchCV\n",
    "from sklearn.pipeline import Pipeline\n"
   ]
  },
  {
   "cell_type": "code",
   "execution_count": null,
   "metadata": {
    "collapsed": true
   },
   "outputs": [],
   "source": []
  }
 ],
 "metadata": {
  "kernelspec": {
   "display_name": "Python 2",
   "language": "python",
   "name": "python2"
  },
  "language_info": {
   "codemirror_mode": {
    "name": "ipython",
    "version": 2
   },
   "file_extension": ".py",
   "mimetype": "text/x-python",
   "name": "python",
   "nbconvert_exporter": "python",
   "pygments_lexer": "ipython2",
   "version": "2.7.13"
  }
 },
 "nbformat": 4,
 "nbformat_minor": 2
}
